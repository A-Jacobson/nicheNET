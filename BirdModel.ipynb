{
 "cells": [
  {
   "cell_type": "code",
   "execution_count": 1,
   "metadata": {},
   "outputs": [],
   "source": [
    "import torch\n",
    "from torch.optim import Adam\n",
    "from torchvision.transforms import Lambda\n",
    "from torch.backends import cudnn\n",
    "\n",
    "from datasets import ASCFolder\n",
    "from models import DadNet, DadNetv2\n",
    "from train_utils import fit, predict"
   ]
  },
  {
   "cell_type": "code",
   "execution_count": 2,
   "metadata": {
    "collapsed": true
   },
   "outputs": [],
   "source": [
    "cudnn.benchmark = True"
   ]
  },
  {
   "cell_type": "code",
   "execution_count": 3,
   "metadata": {
    "collapsed": true
   },
   "outputs": [],
   "source": [
    "path = '/home/austin/data/birds_27_100k/'"
   ]
  },
  {
   "cell_type": "code",
   "execution_count": 6,
   "metadata": {},
   "outputs": [],
   "source": [
    "def change_nodata_val(x, new_val=0, current_val=-3.4e+38):\n",
    "    x[x==current_val] = new_val\n",
    "    return x"
   ]
  },
  {
   "cell_type": "code",
   "execution_count": 7,
   "metadata": {
    "collapsed": true
   },
   "outputs": [],
   "source": [
    "def prep_sample(x):\n",
    "    return Variable(x.unsqueeze(0))"
   ]
  },
  {
   "cell_type": "code",
   "execution_count": 8,
   "metadata": {},
   "outputs": [],
   "source": [
    "transforms = Lambda(change_nodata_val)"
   ]
  },
  {
   "cell_type": "code",
   "execution_count": 9,
   "metadata": {},
   "outputs": [],
   "source": [
    "train = ASCFolder(path+'train', 7, transform=transforms)\n",
    "val = ASCFolder(path+'val', 7, transform=transforms)\n",
    "sample = ASCFolder(path+'sample', 7, transform=transforms)"
   ]
  },
  {
   "cell_type": "code",
   "execution_count": 10,
   "metadata": {},
   "outputs": [
    {
     "data": {
      "text/plain": [
       "DadNetv2 (\n",
       "  (batch_norm): BatchNorm2d(7, eps=1e-05, momentum=0.1, affine=True)\n",
       "  (pool): AvgPool2d (size=2, stride=2, padding=0, ceil_mode=False, count_include_pad=True)\n",
       "  (res1): ResBlock (\n",
       "    (conv1): ConvBatchRelu (\n",
       "      (conv): Conv2d(7, 14, kernel_size=(3, 3), stride=(1, 1), padding=(1, 1))\n",
       "      (batchnorm): BatchNorm2d(14, eps=1e-05, momentum=0.1, affine=True)\n",
       "    )\n",
       "    (conv2): ConvBatchRelu (\n",
       "      (conv): Conv2d(14, 14, kernel_size=(3, 3), stride=(1, 1), padding=(1, 1))\n",
       "      (batchnorm): BatchNorm2d(14, eps=1e-05, momentum=0.1, affine=True)\n",
       "    )\n",
       "    (conv1x1): ConvBatchRelu (\n",
       "      (conv): Conv2d(7, 14, kernel_size=(1, 1), stride=(1, 1))\n",
       "      (batchnorm): BatchNorm2d(14, eps=1e-05, momentum=0.1, affine=True)\n",
       "    )\n",
       "  )\n",
       "  (res2): ResBlock (\n",
       "    (conv1): ConvBatchRelu (\n",
       "      (conv): Conv2d(14, 28, kernel_size=(3, 3), stride=(1, 1), padding=(1, 1))\n",
       "      (batchnorm): BatchNorm2d(28, eps=1e-05, momentum=0.1, affine=True)\n",
       "    )\n",
       "    (conv2): ConvBatchRelu (\n",
       "      (conv): Conv2d(28, 28, kernel_size=(3, 3), stride=(1, 1), padding=(1, 1))\n",
       "      (batchnorm): BatchNorm2d(28, eps=1e-05, momentum=0.1, affine=True)\n",
       "    )\n",
       "    (conv1x1): ConvBatchRelu (\n",
       "      (conv): Conv2d(14, 28, kernel_size=(1, 1), stride=(1, 1))\n",
       "      (batchnorm): BatchNorm2d(28, eps=1e-05, momentum=0.1, affine=True)\n",
       "    )\n",
       "  )\n",
       "  (fc1): Linear (1008 -> 512)\n",
       "  (fc2): Linear (512 -> 1)\n",
       ")"
      ]
     },
     "execution_count": 10,
     "metadata": {},
     "output_type": "execute_result"
    }
   ],
   "source": [
    "dadnet = DadNetv2()\n",
    "dadnet.cuda()"
   ]
  },
  {
   "cell_type": "code",
   "execution_count": 11,
   "metadata": {
    "collapsed": true
   },
   "outputs": [],
   "source": [
    "criterion = nn.BCEWithLogitsLoss()"
   ]
  },
  {
   "cell_type": "code",
   "execution_count": 12,
   "metadata": {
    "collapsed": true
   },
   "outputs": [],
   "source": [
    "optimizer = Adam(dadnet.parameters())"
   ]
  },
  {
   "cell_type": "code",
   "execution_count": 13,
   "metadata": {},
   "outputs": [
    {
     "name": "stdout",
     "output_type": "stream",
     "text": [
      "Train on 8866 samples, Validate on 2216 samples\n"
     ]
    },
    {
     "data": {
      "application/vnd.jupyter.widget-view+json": {
       "model_id": "3f5dfa8729034309834da6b752c367b6"
      }
     },
     "metadata": {},
     "output_type": "display_data"
    },
    {
     "data": {
      "application/vnd.jupyter.widget-view+json": {
       "model_id": "2a7e0a8f35fc4704860b4b2c7c473542"
      }
     },
     "metadata": {},
     "output_type": "display_data"
    },
    {
     "name": "stdout",
     "output_type": "stream",
     "text": [
      "[Epoch 1 - loss: 0.3314 - acc: 0.8383 - val_loss: 0.2892 - val_acc: 0.8624]\n"
     ]
    },
    {
     "data": {
      "application/vnd.jupyter.widget-view+json": {
       "model_id": "26c07403378044c4966595aaa0cbbb72"
      }
     },
     "metadata": {},
     "output_type": "display_data"
    },
    {
     "name": "stdout",
     "output_type": "stream",
     "text": [
      "[Epoch 2 - loss: 0.2869 - acc: 0.8679 - val_loss: 0.2838 - val_acc: 0.8645]\n"
     ]
    },
    {
     "data": {
      "application/vnd.jupyter.widget-view+json": {
       "model_id": "b4965064ed1c47969be77c72350eb139"
      }
     },
     "metadata": {},
     "output_type": "display_data"
    },
    {
     "name": "stdout",
     "output_type": "stream",
     "text": [
      "[Epoch 3 - loss: 0.2803 - acc: 0.8709 - val_loss: 0.2754 - val_acc: 0.8770]\n"
     ]
    },
    {
     "data": {
      "application/vnd.jupyter.widget-view+json": {
       "model_id": "5199a3e1b09349f1bf74d7d9b1756222"
      }
     },
     "metadata": {},
     "output_type": "display_data"
    },
    {
     "name": "stdout",
     "output_type": "stream",
     "text": [
      "[Epoch 4 - loss: 0.2730 - acc: 0.8784 - val_loss: 0.2562 - val_acc: 0.8865]\n"
     ]
    },
    {
     "data": {
      "application/vnd.jupyter.widget-view+json": {
       "model_id": "80bd010522da48dda3ddd8612b42bbdd"
      }
     },
     "metadata": {},
     "output_type": "display_data"
    },
    {
     "name": "stdout",
     "output_type": "stream",
     "text": [
      "[Epoch 5 - loss: 0.2687 - acc: 0.8749 - val_loss: 0.2649 - val_acc: 0.8750]\n"
     ]
    },
    {
     "data": {
      "application/vnd.jupyter.widget-view+json": {
       "model_id": "6fe85f0db94d4674893cc7cd284c29b9"
      }
     },
     "metadata": {},
     "output_type": "display_data"
    },
    {
     "name": "stdout",
     "output_type": "stream",
     "text": [
      "[Epoch 6 - loss: 0.2726 - acc: 0.8765 - val_loss: 0.2579 - val_acc: 0.8813]\n"
     ]
    },
    {
     "data": {
      "application/vnd.jupyter.widget-view+json": {
       "model_id": "df0da44b9edb48efbfc90c896cf39d01"
      }
     },
     "metadata": {},
     "output_type": "display_data"
    },
    {
     "name": "stdout",
     "output_type": "stream",
     "text": [
      "[Epoch 7 - loss: 0.2661 - acc: 0.8797 - val_loss: 0.2571 - val_acc: 0.8796]\n"
     ]
    },
    {
     "data": {
      "application/vnd.jupyter.widget-view+json": {
       "model_id": "332c2cca1bb24997b6087de19b170d3f"
      }
     },
     "metadata": {},
     "output_type": "display_data"
    },
    {
     "name": "stdout",
     "output_type": "stream",
     "text": [
      "[Epoch 8 - loss: 0.2613 - acc: 0.8814 - val_loss: 0.2580 - val_acc: 0.8835]\n"
     ]
    },
    {
     "data": {
      "application/vnd.jupyter.widget-view+json": {
       "model_id": "d4c378e18de14453aa7b506295f266ad"
      }
     },
     "metadata": {},
     "output_type": "display_data"
    },
    {
     "name": "stdout",
     "output_type": "stream",
     "text": [
      "[Epoch 9 - loss: 0.2533 - acc: 0.8863 - val_loss: 0.2531 - val_acc: 0.8852]\n"
     ]
    },
    {
     "data": {
      "application/vnd.jupyter.widget-view+json": {
       "model_id": "2e5c09ad2c1c430fa48e525c10c9bc3a"
      }
     },
     "metadata": {},
     "output_type": "display_data"
    },
    {
     "name": "stdout",
     "output_type": "stream",
     "text": [
      "[Epoch 10 - loss: 0.2477 - acc: 0.8890 - val_loss: 0.2602 - val_acc: 0.8872]\n",
      "\n"
     ]
    }
   ],
   "source": [
    "history = fit(dadnet, train, criterion, optimizer, batch_size=128, validation_data=val, nb_epoch=10)"
   ]
  },
  {
   "cell_type": "code",
   "execution_count": 14,
   "metadata": {},
   "outputs": [
    {
     "name": "stdout",
     "output_type": "stream",
     "text": [
      "Train on 8866 samples, Validate on 2216 samples\n"
     ]
    },
    {
     "data": {
      "application/vnd.jupyter.widget-view+json": {
       "model_id": "96eadbbb71cf4d449ea906e5090778b0"
      }
     },
     "metadata": {},
     "output_type": "display_data"
    },
    {
     "data": {
      "application/vnd.jupyter.widget-view+json": {
       "model_id": "1a47de827e1a4fed87729aca15363132"
      }
     },
     "metadata": {},
     "output_type": "display_data"
    },
    {
     "name": "stdout",
     "output_type": "stream",
     "text": [
      "[Epoch 1 - loss: 0.2460 - acc: 0.8898 - val_loss: 0.2477 - val_acc: 0.8860]\n"
     ]
    },
    {
     "data": {
      "application/vnd.jupyter.widget-view+json": {
       "model_id": "273e16e4a4d04d0d909ac656d490d8d3"
      }
     },
     "metadata": {},
     "output_type": "display_data"
    },
    {
     "name": "stdout",
     "output_type": "stream",
     "text": [
      "[Epoch 2 - loss: 0.2429 - acc: 0.8941 - val_loss: 0.2470 - val_acc: 0.8890]\n"
     ]
    },
    {
     "data": {
      "application/vnd.jupyter.widget-view+json": {
       "model_id": "026b9bc527a9414188e849a5bf6da438"
      }
     },
     "metadata": {},
     "output_type": "display_data"
    },
    {
     "name": "stdout",
     "output_type": "stream",
     "text": [
      "[Epoch 3 - loss: 0.2393 - acc: 0.8934 - val_loss: 0.2442 - val_acc: 0.8854]\n"
     ]
    },
    {
     "data": {
      "application/vnd.jupyter.widget-view+json": {
       "model_id": "6165a72a72614ad387bcf7b52ee756a2"
      }
     },
     "metadata": {},
     "output_type": "display_data"
    },
    {
     "name": "stdout",
     "output_type": "stream",
     "text": [
      "[Epoch 4 - loss: 0.2419 - acc: 0.8928 - val_loss: 0.2496 - val_acc: 0.8940]\n"
     ]
    },
    {
     "data": {
      "application/vnd.jupyter.widget-view+json": {
       "model_id": "3f1def5c08d9434ebed54c677705f37d"
      }
     },
     "metadata": {},
     "output_type": "display_data"
    },
    {
     "name": "stdout",
     "output_type": "stream",
     "text": [
      "[Epoch 5 - loss: 0.2410 - acc: 0.8909 - val_loss: 0.2787 - val_acc: 0.8616]\n"
     ]
    },
    {
     "data": {
      "application/vnd.jupyter.widget-view+json": {
       "model_id": "0204a168037c491db2e5b971f756acd8"
      }
     },
     "metadata": {},
     "output_type": "display_data"
    },
    {
     "name": "stdout",
     "output_type": "stream",
     "text": [
      "[Epoch 6 - loss: 0.2398 - acc: 0.8932 - val_loss: 0.2531 - val_acc: 0.8799]\n"
     ]
    },
    {
     "data": {
      "application/vnd.jupyter.widget-view+json": {
       "model_id": "9ba0cc96f52946a1906fff3fce803f8f"
      }
     },
     "metadata": {},
     "output_type": "display_data"
    },
    {
     "name": "stdout",
     "output_type": "stream",
     "text": [
      "[Epoch 7 - loss: 0.2317 - acc: 0.8978 - val_loss: 0.2463 - val_acc: 0.8885]\n"
     ]
    },
    {
     "data": {
      "application/vnd.jupyter.widget-view+json": {
       "model_id": "ca4db2c3823c41aa94a7f319774acab2"
      }
     },
     "metadata": {},
     "output_type": "display_data"
    },
    {
     "name": "stdout",
     "output_type": "stream",
     "text": [
      "[Epoch 8 - loss: 0.2300 - acc: 0.8984 - val_loss: 0.2477 - val_acc: 0.8866]\n"
     ]
    },
    {
     "data": {
      "application/vnd.jupyter.widget-view+json": {
       "model_id": "f61f53626a754b8991040365bf92ee40"
      }
     },
     "metadata": {},
     "output_type": "display_data"
    },
    {
     "name": "stdout",
     "output_type": "stream",
     "text": [
      "[Epoch 9 - loss: 0.2235 - acc: 0.8995 - val_loss: 0.2514 - val_acc: 0.8923]\n"
     ]
    },
    {
     "data": {
      "application/vnd.jupyter.widget-view+json": {
       "model_id": "e8b59a1543124286adb7baae2984e408"
      }
     },
     "metadata": {},
     "output_type": "display_data"
    },
    {
     "name": "stdout",
     "output_type": "stream",
     "text": [
      "[Epoch 10 - loss: 0.2276 - acc: 0.8991 - val_loss: 0.2459 - val_acc: 0.8840]\n",
      "\n"
     ]
    }
   ],
   "source": [
    "history = fit(dadnet, train, criterion, optimizer, batch_size=128, validation_data=val, nb_epoch=10)"
   ]
  },
  {
   "cell_type": "code",
   "execution_count": null,
   "metadata": {
    "collapsed": true
   },
   "outputs": [],
   "source": []
  }
 ],
 "metadata": {
  "kernelspec": {
   "display_name": "Python 3",
   "language": "python",
   "name": "python3"
  },
  "language_info": {
   "codemirror_mode": {
    "name": "ipython",
    "version": 3
   },
   "file_extension": ".py",
   "mimetype": "text/x-python",
   "name": "python",
   "nbconvert_exporter": "python",
   "pygments_lexer": "ipython3",
   "version": "3.6.1"
  },
  "varInspector": {
   "cols": {
    "lenName": 16,
    "lenType": 16,
    "lenVar": 40
   },
   "kernels_config": {
    "python": {
     "delete_cmd_postfix": "",
     "delete_cmd_prefix": "del ",
     "library": "var_list.py",
     "varRefreshCmd": "print(var_dic_list())"
    },
    "r": {
     "delete_cmd_postfix": ") ",
     "delete_cmd_prefix": "rm(",
     "library": "var_list.r",
     "varRefreshCmd": "cat(var_dic_list()) "
    }
   },
   "types_to_exclude": [
    "module",
    "function",
    "builtin_function_or_method",
    "instance",
    "_Feature"
   ],
   "window_display": false
  }
 },
 "nbformat": 4,
 "nbformat_minor": 2
}
 

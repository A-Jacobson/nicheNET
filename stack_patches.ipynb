{
 "cells": [
  {
   "cell_type": "code",
   "execution_count": 1,
   "metadata": {
    "collapsed": true
   },
   "outputs": [],
   "source": [
    "import numpy as np\n",
    "import glob\n",
    "import os"
   ]
  },
  {
   "cell_type": "code",
   "execution_count": 2,
   "metadata": {
    "collapsed": true
   },
   "outputs": [],
   "source": [
    "def load_asc(asc_file):\n",
    "    return np.loadtxt(asc_file, skiprows=6)"
   ]
  },
  {
   "cell_type": "code",
   "execution_count": 3,
   "metadata": {
    "collapsed": false
   },
   "outputs": [],
   "source": [
    "def combine_features(raster_folder):\n",
    "    return np.array([load_asc(raster_folder+\"/\"+raster_folder.split('/')[-1]+\"_\"+str(i)+\".asc\") for i in range(1, 9)])"
   ]
  },
  {
   "cell_type": "code",
   "execution_count": 4,
   "metadata": {
    "collapsed": false
   },
   "outputs": [
    {
     "data": {
      "text/plain": [
       "(8, 11, 11)"
      ]
     },
     "execution_count": 4,
     "metadata": {},
     "output_type": "execute_result"
    }
   ],
   "source": [
    "combine_features('data/test_Set/true/121147').shape"
   ]
  },
  {
   "cell_type": "code",
   "execution_count": 5,
   "metadata": {
    "collapsed": false
   },
   "outputs": [
    {
     "data": {
      "text/plain": [
       "(207, 8, 11, 11)"
      ]
     },
     "execution_count": 5,
     "metadata": {},
     "output_type": "execute_result"
    }
   ],
   "source": [
    "true_samples = np.array([combine_features(sample) for sample in glob.glob('data/test_Set/true/*')])\n",
    "true_samples.shape"
   ]
  },
  {
   "cell_type": "code",
   "execution_count": 6,
   "metadata": {
    "collapsed": false
   },
   "outputs": [
    {
     "data": {
      "text/plain": [
       "(271, 8, 11, 11)"
      ]
     },
     "execution_count": 6,
     "metadata": {},
     "output_type": "execute_result"
    }
   ],
   "source": [
    "false_samples = np.array([combine_features(sample) for sample in glob.glob('data/test_Set/false/*') if combine_features(sample).shape == (8, 11, 11)])\n",
    "false_samples.shape"
   ]
  },
  {
   "cell_type": "code",
   "execution_count": 7,
   "metadata": {
    "collapsed": false
   },
   "outputs": [
    {
     "data": {
      "text/plain": [
       "(207, 8, 11, 11)"
      ]
     },
     "execution_count": 7,
     "metadata": {},
     "output_type": "execute_result"
    }
   ],
   "source": [
    "true_samples.shape"
   ]
  },
  {
   "cell_type": "code",
   "execution_count": 8,
   "metadata": {
    "collapsed": true
   },
   "outputs": [],
   "source": [
    "labels_false = np.zeros(271)\n",
    "labels_true = np.ones(207)"
   ]
  },
  {
   "cell_type": "code",
   "execution_count": 9,
   "metadata": {
    "collapsed": false
   },
   "outputs": [],
   "source": [
    "train_true = true_samples"
   ]
  },
  {
   "cell_type": "code",
   "execution_count": 10,
   "metadata": {
    "collapsed": false
   },
   "outputs": [],
   "source": [
    "data = np.concatenate([true_samples, false_samples])"
   ]
  },
  {
   "cell_type": "code",
   "execution_count": 11,
   "metadata": {
    "collapsed": true
   },
   "outputs": [],
   "source": [
    "labels = np.concatenate([labels_true, labels_false])"
   ]
  },
  {
   "cell_type": "code",
   "execution_count": 12,
   "metadata": {
    "collapsed": false
   },
   "outputs": [
    {
     "data": {
      "text/plain": [
       "(478, 8, 11, 11)"
      ]
     },
     "execution_count": 12,
     "metadata": {},
     "output_type": "execute_result"
    }
   ],
   "source": [
    "data.shape"
   ]
  },
  {
   "cell_type": "code",
   "execution_count": 13,
   "metadata": {
    "collapsed": false
   },
   "outputs": [
    {
     "data": {
      "text/plain": [
       "(478,)"
      ]
     },
     "execution_count": 13,
     "metadata": {},
     "output_type": "execute_result"
    }
   ],
   "source": [
    "labels.shape"
   ]
  },
  {
   "cell_type": "code",
   "execution_count": 14,
   "metadata": {
    "collapsed": false
   },
   "outputs": [
    {
     "name": "stderr",
     "output_type": "stream",
     "text": [
      "/home/austin/anaconda2/lib/python2.7/site-packages/sklearn/cross_validation.py:44: DeprecationWarning: This module was deprecated in version 0.18 in favor of the model_selection module into which all the refactored classes and functions are moved. Also note that the interface of the new CV iterators are different from that of this module. This module will be removed in 0.20.\n",
      "  \"This module will be removed in 0.20.\", DeprecationWarning)\n"
     ]
    }
   ],
   "source": [
    "from sklearn.cross_validation import train_test_split\n",
    "\n",
    "X_train, X_test, y_train, y_test = train_test_split(data, labels, test_size=0.20, random_state=42)"
   ]
  },
  {
   "cell_type": "code",
   "execution_count": 15,
   "metadata": {
    "collapsed": false
   },
   "outputs": [
    {
     "data": {
      "text/plain": [
       "(382, 8, 11, 11)"
      ]
     },
     "execution_count": 15,
     "metadata": {},
     "output_type": "execute_result"
    }
   ],
   "source": [
    "X_train.shape"
   ]
  },
  {
   "cell_type": "code",
   "execution_count": 16,
   "metadata": {
    "collapsed": false
   },
   "outputs": [
    {
     "name": "stderr",
     "output_type": "stream",
     "text": [
      "Using TensorFlow backend.\n"
     ]
    }
   ],
   "source": [
    "from keras.models import Sequential\n",
    "from keras.layers import Dense, Flatten, Activation\n",
    "from keras.layers import Conv2D, MaxPooling2D\n",
    "from keras.preprocessing.image import ImageDataGenerator"
   ]
  },
  {
   "cell_type": "code",
   "execution_count": 17,
   "metadata": {
    "collapsed": false
   },
   "outputs": [],
   "source": [
    "model = Sequential()\n",
    "model.add(Conv2D(filters=64, kernel_size=(2,2), padding='same', input_shape=(8, 11, 11)))\n",
    "model.add(Activation('relu'))\n",
    "model.add(Conv2D(64, (2,2)))\n",
    "model.add(Activation('relu'))\n",
    "model.add(MaxPooling2D(pool_size=(2, 2)))\n",
    "\n",
    "\n",
    "model.add(Flatten())\n",
    "model.add(Dense(100))\n",
    "model.add(Activation('relu'))\n",
    "model.add(Dense(1))\n",
    "model.add(Activation('sigmoid'))"
   ]
  },
  {
   "cell_type": "code",
   "execution_count": 18,
   "metadata": {
    "collapsed": false
   },
   "outputs": [],
   "source": [
    "model.compile(loss='binary_crossentropy', optimizer='Adam', metrics=['accuracy'])"
   ]
  },
  {
   "cell_type": "code",
   "execution_count": 19,
   "metadata": {
    "collapsed": true
   },
   "outputs": [],
   "source": [
    "X_dev = X_train[:10]\n",
    "y_dev = y_train[:10]"
   ]
  },
  {
   "cell_type": "code",
   "execution_count": 20,
   "metadata": {
    "collapsed": false
   },
   "outputs": [],
   "source": [
    "X_dev -= X_dev.mean(axis=0) # subtract channel wise mean\n",
    "X_dev /= X_dev.std(axis=0) # divide by channel wise std"
   ]
  },
  {
   "cell_type": "code",
   "execution_count": 21,
   "metadata": {
    "collapsed": false
   },
   "outputs": [],
   "source": [
    "# X_train -= X_train.mean(axis=0) # subtract channel wise mean\n",
    "# X_train /= X_train.std(axis=0) # divide by channel wise std\n",
    "\n",
    "# X_test -= X_train.mean(axis=0) # normalize by mean calculated on training set\n",
    "# X_test /= X_train.std(axis=0)"
   ]
  },
  {
   "cell_type": "code",
   "execution_count": 22,
   "metadata": {
    "collapsed": false
   },
   "outputs": [
    {
     "name": "stdout",
     "output_type": "stream",
     "text": [
      "Epoch 1/40\n",
      "10/10 [==============================] - 0s - loss: 0.6877 - acc: 0.5000\n",
      "Epoch 2/40\n",
      "10/10 [==============================] - 0s - loss: 0.5459 - acc: 0.8000\n",
      "Epoch 3/40\n",
      "10/10 [==============================] - 0s - loss: 0.4724 - acc: 0.7000\n",
      "Epoch 4/40\n",
      "10/10 [==============================] - 0s - loss: 0.4288 - acc: 0.7000\n",
      "Epoch 5/40\n",
      "10/10 [==============================] - 0s - loss: 0.3965 - acc: 0.7000\n",
      "Epoch 6/40\n",
      "10/10 [==============================] - 0s - loss: 0.3623 - acc: 0.8000\n",
      "Epoch 7/40\n",
      "10/10 [==============================] - 0s - loss: 0.3260 - acc: 0.9000\n",
      "Epoch 8/40\n",
      "10/10 [==============================] - 0s - loss: 0.2943 - acc: 0.9000\n",
      "Epoch 9/40\n",
      "10/10 [==============================] - 0s - loss: 0.2695 - acc: 0.9000\n",
      "Epoch 10/40\n",
      "10/10 [==============================] - 0s - loss: 0.2473 - acc: 0.9000\n",
      "Epoch 11/40\n",
      "10/10 [==============================] - 0s - loss: 0.2230 - acc: 0.9000\n",
      "Epoch 12/40\n",
      "10/10 [==============================] - 0s - loss: 0.1983 - acc: 0.9000\n",
      "Epoch 13/40\n",
      "10/10 [==============================] - 0s - loss: 0.1758 - acc: 0.9000\n",
      "Epoch 14/40\n",
      "10/10 [==============================] - 0s - loss: 0.1563 - acc: 1.0000\n",
      "Epoch 15/40\n",
      "10/10 [==============================] - 0s - loss: 0.1383 - acc: 1.0000\n",
      "Epoch 16/40\n",
      "10/10 [==============================] - 0s - loss: 0.1201 - acc: 1.0000\n",
      "Epoch 17/40\n",
      "10/10 [==============================] - 0s - loss: 0.1022 - acc: 1.0000\n",
      "Epoch 18/40\n",
      "10/10 [==============================] - 0s - loss: 0.0864 - acc: 1.0000\n",
      "Epoch 19/40\n",
      "10/10 [==============================] - 0s - loss: 0.0732 - acc: 1.0000\n",
      "Epoch 20/40\n",
      "10/10 [==============================] - 0s - loss: 0.0618 - acc: 1.0000\n",
      "Epoch 21/40\n",
      "10/10 [==============================] - 0s - loss: 0.0517 - acc: 1.0000\n",
      "Epoch 22/40\n",
      "10/10 [==============================] - 0s - loss: 0.0432 - acc: 1.0000\n",
      "Epoch 23/40\n",
      "10/10 [==============================] - 0s - loss: 0.0360 - acc: 1.0000\n",
      "Epoch 24/40\n",
      "10/10 [==============================] - 0s - loss: 0.0301 - acc: 1.0000\n",
      "Epoch 25/40\n",
      "10/10 [==============================] - 0s - loss: 0.0251 - acc: 1.0000\n",
      "Epoch 26/40\n",
      "10/10 [==============================] - 0s - loss: 0.0207 - acc: 1.0000\n",
      "Epoch 27/40\n",
      "10/10 [==============================] - 0s - loss: 0.0169 - acc: 1.0000\n",
      "Epoch 28/40\n",
      "10/10 [==============================] - 0s - loss: 0.0139 - acc: 1.0000\n",
      "Epoch 29/40\n",
      "10/10 [==============================] - 0s - loss: 0.0116 - acc: 1.0000\n",
      "Epoch 30/40\n",
      "10/10 [==============================] - 0s - loss: 0.0096 - acc: 1.0000\n",
      "Epoch 31/40\n",
      "10/10 [==============================] - 0s - loss: 0.0080 - acc: 1.0000\n",
      "Epoch 32/40\n",
      "10/10 [==============================] - 0s - loss: 0.0066 - acc: 1.0000\n",
      "Epoch 33/40\n",
      "10/10 [==============================] - 0s - loss: 0.0055 - acc: 1.0000\n",
      "Epoch 34/40\n",
      "10/10 [==============================] - 0s - loss: 0.0046 - acc: 1.0000\n",
      "Epoch 35/40\n",
      "10/10 [==============================] - 0s - loss: 0.0038 - acc: 1.0000\n",
      "Epoch 36/40\n",
      "10/10 [==============================] - 0s - loss: 0.0033 - acc: 1.0000\n",
      "Epoch 37/40\n",
      "10/10 [==============================] - 0s - loss: 0.0028 - acc: 1.0000\n",
      "Epoch 38/40\n",
      "10/10 [==============================] - 0s - loss: 0.0024 - acc: 1.0000\n",
      "Epoch 39/40\n",
      "10/10 [==============================] - 0s - loss: 0.0020 - acc: 1.0000\n",
      "Epoch 40/40\n",
      "10/10 [==============================] - 0s - loss: 0.0018 - acc: 1.0000\n"
     ]
    },
    {
     "data": {
      "text/plain": [
       "<keras.callbacks.History at 0x7f1520461ed0>"
      ]
     },
     "execution_count": 22,
     "metadata": {},
     "output_type": "execute_result"
    }
   ],
   "source": [
    "model.fit(X_dev, y_dev, batch_size=32, epochs=40, shuffle=True)"
   ]
  },
  {
   "cell_type": "code",
   "execution_count": 23,
   "metadata": {
    "collapsed": false
   },
   "outputs": [
    {
     "data": {
      "text/plain": [
       "array([ 0.,  1.,  0.,  0.,  1.,  0.,  1.,  1.,  0.,  1.])"
      ]
     },
     "execution_count": 23,
     "metadata": {},
     "output_type": "execute_result"
    }
   ],
   "source": [
    "y_dev"
   ]
  },
  {
   "cell_type": "code",
   "execution_count": 24,
   "metadata": {
    "collapsed": false
   },
   "outputs": [
    {
     "name": "stdout",
     "output_type": "stream",
     "text": [
      "10/10 [==============================] - 0s\n"
     ]
    },
    {
     "data": {
      "text/plain": [
       "array([[  1.01775368e-06],\n",
       "       [  9.98670578e-01],\n",
       "       [  6.35446042e-07],\n",
       "       [  5.28842029e-05],\n",
       "       [  9.99982476e-01],\n",
       "       [  6.48473855e-03],\n",
       "       [  9.93346691e-01],\n",
       "       [  9.99586284e-01],\n",
       "       [  3.18151753e-04],\n",
       "       [  1.00000000e+00]], dtype=float32)"
      ]
     },
     "execution_count": 24,
     "metadata": {},
     "output_type": "execute_result"
    }
   ],
   "source": [
    "model.predict_proba(X_dev)"
   ]
  },
  {
   "cell_type": "code",
   "execution_count": 25,
   "metadata": {
    "collapsed": false
   },
   "outputs": [
    {
     "name": "stdout",
     "output_type": "stream",
     "text": [
      "10/10 [==============================] - 0s\n"
     ]
    },
    {
     "data": {
      "text/plain": [
       "array([[0],\n",
       "       [1],\n",
       "       [0],\n",
       "       [0],\n",
       "       [1],\n",
       "       [0],\n",
       "       [1],\n",
       "       [1],\n",
       "       [0],\n",
       "       [1]], dtype=int32)"
      ]
     },
     "execution_count": 25,
     "metadata": {},
     "output_type": "execute_result"
    }
   ],
   "source": [
    "model.predict_classes(X_dev)"
   ]
  },
  {
   "cell_type": "code",
   "execution_count": null,
   "metadata": {
    "collapsed": true
   },
   "outputs": [],
   "source": [
    ""
   ]
  }
 ],
 "metadata": {
  "anaconda-cloud": {},
  "kernelspec": {
   "display_name": "Python [default]",
   "language": "python",
   "name": "python2"
  },
  "language_info": {
   "codemirror_mode": {
    "name": "ipython",
    "version": 2.0
   },
   "file_extension": ".py",
   "mimetype": "text/x-python",
   "name": "python",
   "nbconvert_exporter": "python",
   "pygments_lexer": "ipython2",
   "version": "2.7.12"
  }
 },
 "nbformat": 4,
 "nbformat_minor": 0
}